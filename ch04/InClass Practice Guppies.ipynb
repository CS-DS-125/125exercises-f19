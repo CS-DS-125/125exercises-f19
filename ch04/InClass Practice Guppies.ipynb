{
 "cells": [
  {
   "cell_type": "code",
   "execution_count": null,
   "metadata": {},
   "outputs": [
    {
     "name": "stdout",
     "output_type": "stream",
     "text": [
      "Welcome to Guppies\n",
      "You have 100\n"
     ]
    },
    {
     "name": "stdin",
     "output_type": "stream",
     "text": [
      "How much do you want to bet? 75\n"
     ]
    },
    {
     "name": "stdout",
     "output_type": "stream",
     "text": [
      "The computers number is 0\n"
     ]
    },
    {
     "name": "stdin",
     "output_type": "stream",
     "text": [
      "(h)i or (l)ow h\n"
     ]
    },
    {
     "name": "stdout",
     "output_type": "stream",
     "text": [
      "Good Job! You were right\n"
     ]
    },
    {
     "name": "stdin",
     "output_type": "stream",
     "text": [
      "Enter space if you want to quit. \n"
     ]
    },
    {
     "name": "stdout",
     "output_type": "stream",
     "text": [
      "You have 175\n"
     ]
    }
   ],
   "source": [
    "import random\n",
    "\n",
    "money = 100\n",
    "print('Welcome to Guppies')\n",
    "\n",
    "\n",
    "while True:\n",
    "    print('You have', money)\n",
    "    \n",
    "    # get bet and check if valid\n",
    "    while True:\n",
    "        bet=int(input('How much do you want to bet?'))\n",
    "        if bet > 0 and bet <= money:\n",
    "            break\n",
    "        print('Please enter a valid bet')\n",
    "        \n",
    "    compnum = random.randint(0,10)\n",
    "    print('The computers number is', compnum) \n",
    "    \n",
    "    guess = input('(h)i or (l)ow')\n",
    "    \n",
    "    playernum = random.randint(0,10)\n",
    "    \n",
    "    if playernum > compnum and guess == 'h':\n",
    "        print('Good Job! You were right')\n",
    "        money = money + bet\n",
    "    \n",
    "    \n",
    "    question = input('Enter space if you want to quit.')\n",
    "    if question == ' ':\n",
    "        print('You won', money)\n",
    "        break"
   ]
  },
  {
   "cell_type": "code",
   "execution_count": null,
   "metadata": {},
   "outputs": [],
   "source": []
  }
 ],
 "metadata": {
  "kernelspec": {
   "display_name": "Python 3",
   "language": "python",
   "name": "python3"
  },
  "language_info": {
   "codemirror_mode": {
    "name": "ipython",
    "version": 3
   },
   "file_extension": ".py",
   "mimetype": "text/x-python",
   "name": "python",
   "nbconvert_exporter": "python",
   "pygments_lexer": "ipython3",
   "version": "3.6.8"
  }
 },
 "nbformat": 4,
 "nbformat_minor": 4
}
