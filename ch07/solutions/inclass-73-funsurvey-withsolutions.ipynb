{
 "cells": [
  {
   "cell_type": "markdown",
   "metadata": {},
   "source": [
    "# In Class Exercise 7.3: Fun Survey (and More Basic Practice with Dataframes)\n",
    "\n",
    "Getting started: \n",
    "\n",
    "* Results of the survey we asked the class to complete at the beginning of the semester are available here: https://docs.google.com/spreadsheets/d/1ip_dVSgO2JtStc5z8AojBUxHLpi17dtPNygNPaLgY58/edit?usp=sharing.\n",
    "* Open that file in google forms. Go to File--> Download as--> download as CSV\n",
    "* Take the downloaded file and upload it to the same folder as this notebook on JupyterLab.\n",
    "***\n",
    "## Step 1:\n",
    "* Import pandas as pd. \n",
    "* Import matplotlib.pyplot as plt\n",
    "* Use code to make your graphs look nice.\n",
    "* Read the csv file and assign the result to `df`."
   ]
  },
  {
   "cell_type": "code",
   "execution_count": 1,
   "metadata": {},
   "outputs": [],
   "source": [
    "# write and test your code here\n",
    "\n",
    "import pandas as pd\n",
    "import matplotlib.pyplot as plt\n",
    "\n",
    "df = pd.read_csv('classsurvey.csv')"
   ]
  },
  {
   "cell_type": "code",
   "execution_count": 2,
   "metadata": {},
   "outputs": [],
   "source": [
    "# solution\n",
    "\n",
    "import pandas as pd\n",
    "import matplotlib.pyplot as plt\n",
    "\n",
    "df = pd.read_csv('classsurvey.csv')"
   ]
  },
  {
   "cell_type": "markdown",
   "metadata": {},
   "source": [
    "## Step 2:\n",
    "* Check your dataframe.\n",
    "* Check the datatypes for each columns. Think about the types of questions you could answer with this data. Think about how the data might need to be cleaned to answer those questions. \n",
    "* Use code to print the total number of student survey responses contained in the dataframe. (How many people answered the survey?) "
   ]
  },
  {
   "cell_type": "code",
   "execution_count": 3,
   "metadata": {},
   "outputs": [
    {
     "name": "stdout",
     "output_type": "stream",
     "text": [
      "The total number of students survey responses is: 53\n"
     ]
    }
   ],
   "source": [
    "# write and test your code here\n",
    "\n",
    "print('The total number of students survey responses is:', df.shape[0])"
   ]
  },
  {
   "cell_type": "code",
   "execution_count": 4,
   "metadata": {},
   "outputs": [
    {
     "name": "stdout",
     "output_type": "stream",
     "text": [
      "The dataframe method `info()` will print information about the dataframe include the datatype of each column.\n",
      "\n",
      "df.info() prints:\n",
      "<class 'pandas.core.frame.DataFrame'>\n",
      "RangeIndex: 53 entries, 0 to 52\n",
      "Data columns (total 14 columns):\n",
      "Timestamp                                                                                                                                     53 non-null object\n",
      "Who is your favorite music artist (broadly defined)?                                                                                          49 non-null object\n",
      "What physical height would you like to be?                                                                                                    53 non-null object\n",
      "If you had to live in city, but could pick any city in the world, what city would you live in?                                                53 non-null object\n",
      "If you could have 30 minutes to talk with any person, living or dead, who would you pick?                                                     45 non-null object\n",
      "If you could travel to any location in the world for vacation, where would you go?                                                            52 non-null object\n",
      "On a scale of 1 (gross) to five (awesome) how much do you like pizza?                                                                         53 non-null int64\n",
      "Is Chicago-style deep dish actually pizza or is it really casserole?                                                                          53 non-null object\n",
      "What sport do you most enjoy watching?                                                                                                        48 non-null object\n",
      "Which is the most difficult to spell?                                                                                                         53 non-null object\n",
      "What is the optimal number of people to hang out with?                                                                                        53 non-null object\n",
      "Do you think you talk more or less than the average person?                                                                                   53 non-null object\n",
      "If you had a time machine and could visit any year you like, which year would you pick?                                                       50 non-null object\n",
      "What's you favorite inspirational quote? You don't need to do this from memory. Feel free to look something up and then paste it in here.     48 non-null object\n",
      "dtypes: int64(1), object(13)\n",
      "memory usage: 5.9+ KB\n",
      "\n",
      "----------------------------------------------------------------------\n",
      "\n",
      "The shape attribute of the dataframe will return a tuple (similar to a list) that represents the number of rows and the number of columns.\n",
      "df.shape returns: (53, 14)\n",
      "\n",
      "Can use indexing to return only the rows which will tell us how many people answered the survey.\n",
      "The number of people who answered the survey is: 53\n",
      "\n",
      "Note: This is just one way this problem can be solved. Other solutions are equally valid.\n"
     ]
    }
   ],
   "source": [
    "# solution\n",
    "\n",
    "print('The dataframe method `info()` will print information about the dataframe include the datatype of each column.')\n",
    "print('')\n",
    "print('df.info() prints:')\n",
    "df.info()\n",
    "print('')\n",
    "print('-' * 70)\n",
    "print('')\n",
    "print('The shape attribute of the dataframe will return a tuple (similar to a list) that represents the number of rows and the number of columns.')\n",
    "print('df.shape returns:', df.shape)\n",
    "print('')\n",
    "print('Can use indexing to return only the rows which will tell us how many people answered the survey.')\n",
    "print('The number of people who answered the survey is:', df.shape[0])\n",
    "print('')\n",
    "print('Note: This is just one way this problem can be solved. Other solutions are equally valid.')"
   ]
  },
  {
   "cell_type": "markdown",
   "metadata": {},
   "source": [
    "## Step 3:\n",
    "* Rename your columns using `renamelist` below to make your columns easier to work with \n",
    "* Check your dataframe to confirm this has worked. "
   ]
  },
  {
   "cell_type": "code",
   "execution_count": 5,
   "metadata": {},
   "outputs": [
    {
     "data": {
      "text/plain": [
       "Index(['Timestamp', 'musicartist', 'height', 'city', '30min', 'travel',\n",
       "       'likepizza', 'deepdish', 'sport', 'spell', 'hangout', 'talk', 'year',\n",
       "       'quote'],\n",
       "      dtype='object')"
      ]
     },
     "execution_count": 5,
     "metadata": {},
     "output_type": "execute_result"
    }
   ],
   "source": [
    "renamelist = ['Timestamp', 'musicartist', 'height', 'city', '30min', 'travel', 'likepizza', 'deepdish', 'sport', 'spell', 'hangout', 'talk', 'year', 'quote']\n",
    "\n",
    "# write and test your code here\n",
    "df.columns = renamelist\n",
    "df.columns"
   ]
  },
  {
   "cell_type": "code",
   "execution_count": 6,
   "metadata": {},
   "outputs": [
    {
     "data": {
      "text/plain": [
       "Index(['Timestamp', 'musicartist', 'height', 'city', '30min', 'travel',\n",
       "       'likepizza', 'deepdish', 'sport', 'spell', 'hangout', 'talk', 'year',\n",
       "       'quote'],\n",
       "      dtype='object')"
      ]
     },
     "execution_count": 6,
     "metadata": {},
     "output_type": "execute_result"
    }
   ],
   "source": [
    "renamelist = ['Timestamp', 'musicartist', 'height', 'city', '30min', 'travel', 'likepizza', 'deepdish', 'sport', 'spell', 'hangout', 'talk', 'year', 'quote']\n",
    "\n",
    "# solution\n",
    "\n",
    "# df.columns is an attribute of the dataframe, it is a list that contain the column labels of the dataframe. It can be manipulated like any other list.\n",
    "df.columns = renamelist\n",
    "df.columns"
   ]
  },
  {
   "cell_type": "markdown",
   "metadata": {},
   "source": [
    "## Step 4:\n",
    "* The survey asked 'Do you think you talk more or less than the average person?', 'Is Chicago-style deep dish actually pizza or is it really casserole?', 'Which is the most difficult to spell? '. Create descriptive statistics and vizualizations that desribe students responses to each of these three questions seperately. \n",
    "* Use cross-tabs to examine whether there is any relation between how a student answered these questions. For example, do students who think deep dish is a casserole also say they talk more than the average person? \n"
   ]
  },
  {
   "cell_type": "code",
   "execution_count": 7,
   "metadata": {},
   "outputs": [
    {
     "data": {
      "text/plain": [
       "Less    32\n",
       "More    21\n",
       "Name: talk, dtype: int64"
      ]
     },
     "execution_count": 7,
     "metadata": {},
     "output_type": "execute_result"
    }
   ],
   "source": [
    "# write and test your code here\n",
    "talkcounts = df['talk'].value_counts()\n",
    "talkcounts"
   ]
  },
  {
   "cell_type": "code",
   "execution_count": 8,
   "metadata": {},
   "outputs": [
    {
     "data": {
      "text/html": [
       "<div>\n",
       "<style scoped>\n",
       "    .dataframe tbody tr th:only-of-type {\n",
       "        vertical-align: middle;\n",
       "    }\n",
       "\n",
       "    .dataframe tbody tr th {\n",
       "        vertical-align: top;\n",
       "    }\n",
       "\n",
       "    .dataframe thead th {\n",
       "        text-align: right;\n",
       "    }\n",
       "</style>\n",
       "<table border=\"1\" class=\"dataframe\">\n",
       "  <thead>\n",
       "    <tr style=\"text-align: right;\">\n",
       "      <th></th>\n",
       "      <th>count</th>\n",
       "      <th>unique</th>\n",
       "      <th>top</th>\n",
       "      <th>freq</th>\n",
       "    </tr>\n",
       "  </thead>\n",
       "  <tbody>\n",
       "    <tr>\n",
       "      <th>talk</th>\n",
       "      <td>53</td>\n",
       "      <td>2</td>\n",
       "      <td>Less</td>\n",
       "      <td>32</td>\n",
       "    </tr>\n",
       "    <tr>\n",
       "      <th>deepdish</th>\n",
       "      <td>53</td>\n",
       "      <td>3</td>\n",
       "      <td>pizza</td>\n",
       "      <td>36</td>\n",
       "    </tr>\n",
       "    <tr>\n",
       "      <th>spell</th>\n",
       "      <td>53</td>\n",
       "      <td>3</td>\n",
       "      <td>hors d'oeuvre</td>\n",
       "      <td>40</td>\n",
       "    </tr>\n",
       "  </tbody>\n",
       "</table>\n",
       "</div>"
      ],
      "text/plain": [
       "         count unique            top freq\n",
       "talk        53      2           Less   32\n",
       "deepdish    53      3          pizza   36\n",
       "spell       53      3  hors d'oeuvre   40"
      ]
     },
     "execution_count": 8,
     "metadata": {},
     "output_type": "execute_result"
    }
   ],
   "source": [
    "# solution\n",
    "\n",
    "# add the target column labels to a list so I don't have to type them over and over again\n",
    "step4list = ['talk', 'deepdish','spell']\n",
    "\n",
    "# use describe() method to get some descriptives. Transpose the result to make it a bit easier to read.\n",
    "df[step4list].describe().transpose()"
   ]
  },
  {
   "cell_type": "code",
   "execution_count": 9,
   "metadata": {},
   "outputs": [],
   "source": [
    "# This is one way to get the data we want to plot. We use the value counts method which returns a series that contains just the values and the counts\n",
    "talkcounts = df['talk'].value_counts()\n",
    "dishcounts = df['deepdish'].value_counts()\n",
    "spellcounts = df['spell'].value_counts()"
   ]
  },
  {
   "cell_type": "code",
   "execution_count": 10,
   "metadata": {},
   "outputs": [
    {
     "data": {
      "image/png": "[encoded data removed]",
      "text/plain": [
       "<Figure size 432x288 with 1 Axes>"
      ]
     },
     "metadata": {
      "needs_background": "light"
     },
     "output_type": "display_data"
    }
   ],
   "source": [
    "plt.bar(x=talkcounts.index, height=talkcounts.values)\n",
    "plt.xlabel(\"Response\")\n",
    "plt.ylabel(\"# of Students\")\n",
    "plt.title(\"Class Survey: Talk Less or More than Average\")\n",
    "plt.show()"
   ]
  },
  {
   "cell_type": "code",
   "execution_count": 11,
   "metadata": {},
   "outputs": [
    {
     "data": {
      "image/png": "[encoded data removed]",
      "text/plain": [
       "<Figure size 432x288 with 1 Axes>"
      ]
     },
     "metadata": {
      "needs_background": "light"
     },
     "output_type": "display_data"
    }
   ],
   "source": [
    "plt.bar(x=dishcounts.index, height=dishcounts.values)\n",
    "plt.xlabel(\"Response\")\n",
    "plt.ylabel(\"# of Students\")\n",
    "plt.title(\"Class Survey: Deepdish, pizza or caserole?\")\n",
    "plt.show()"
   ]
  },
  {
   "cell_type": "code",
   "execution_count": 12,
   "metadata": {},
   "outputs": [
    {
     "data": {
      "image/png": "[encoded data removed]",
      "text/plain": [
       "<Figure size 432x288 with 1 Axes>"
      ]
     },
     "metadata": {
      "needs_background": "light"
     },
     "output_type": "display_data"
    }
   ],
   "source": [
    "plt.bar(x=spellcounts.index, height=spellcounts.values)\n",
    "plt.xlabel(\"Response\")\n",
    "plt.ylabel(\"# of Students\")\n",
    "plt.title(\"Most Difficult to Spell?\")\n",
    "plt.show()"
   ]
  },
  {
   "cell_type": "code",
   "execution_count": 13,
   "metadata": {},
   "outputs": [
    {
     "data": {
      "text/html": [
       "<div>\n",
       "<style scoped>\n",
       "    .dataframe tbody tr th:only-of-type {\n",
       "        vertical-align: middle;\n",
       "    }\n",
       "\n",
       "    .dataframe tbody tr th {\n",
       "        vertical-align: top;\n",
       "    }\n",
       "\n",
       "    .dataframe thead th {\n",
       "        text-align: right;\n",
       "    }\n",
       "</style>\n",
       "<table border=\"1\" class=\"dataframe\">\n",
       "  <thead>\n",
       "    <tr style=\"text-align: right;\">\n",
       "      <th>talk</th>\n",
       "      <th>Less</th>\n",
       "      <th>More</th>\n",
       "    </tr>\n",
       "    <tr>\n",
       "      <th>spell</th>\n",
       "      <th></th>\n",
       "      <th></th>\n",
       "    </tr>\n",
       "  </thead>\n",
       "  <tbody>\n",
       "    <tr>\n",
       "      <th>daiquiri</th>\n",
       "      <td>0.12500</td>\n",
       "      <td>0.238095</td>\n",
       "    </tr>\n",
       "    <tr>\n",
       "      <th>hors d'oeuvre</th>\n",
       "      <td>0.84375</td>\n",
       "      <td>0.619048</td>\n",
       "    </tr>\n",
       "    <tr>\n",
       "      <th>lieutenant</th>\n",
       "      <td>0.03125</td>\n",
       "      <td>0.142857</td>\n",
       "    </tr>\n",
       "  </tbody>\n",
       "</table>\n",
       "</div>"
      ],
      "text/plain": [
       "talk              Less      More\n",
       "spell                           \n",
       "daiquiri       0.12500  0.238095\n",
       "hors d'oeuvre  0.84375  0.619048\n",
       "lieutenant     0.03125  0.142857"
      ]
     },
     "execution_count": 13,
     "metadata": {},
     "output_type": "execute_result"
    }
   ],
   "source": [
    "pd.crosstab(df['spell'], df['talk'], normalize='columns')"
   ]
  },
  {
   "cell_type": "code",
   "execution_count": 14,
   "metadata": {},
   "outputs": [
    {
     "data": {
      "text/html": [
       "<div>\n",
       "<style scoped>\n",
       "    .dataframe tbody tr th:only-of-type {\n",
       "        vertical-align: middle;\n",
       "    }\n",
       "\n",
       "    .dataframe tbody tr th {\n",
       "        vertical-align: top;\n",
       "    }\n",
       "\n",
       "    .dataframe thead th {\n",
       "        text-align: right;\n",
       "    }\n",
       "</style>\n",
       "<table border=\"1\" class=\"dataframe\">\n",
       "  <thead>\n",
       "    <tr style=\"text-align: right;\">\n",
       "      <th>deepdish</th>\n",
       "      <th>casserole</th>\n",
       "      <th>no opinion</th>\n",
       "      <th>pizza</th>\n",
       "    </tr>\n",
       "    <tr>\n",
       "      <th>spell</th>\n",
       "      <th></th>\n",
       "      <th></th>\n",
       "      <th></th>\n",
       "    </tr>\n",
       "  </thead>\n",
       "  <tbody>\n",
       "    <tr>\n",
       "      <th>daiquiri</th>\n",
       "      <td>0.000000</td>\n",
       "      <td>0.181818</td>\n",
       "      <td>0.194444</td>\n",
       "    </tr>\n",
       "    <tr>\n",
       "      <th>hors d'oeuvre</th>\n",
       "      <td>0.833333</td>\n",
       "      <td>0.636364</td>\n",
       "      <td>0.777778</td>\n",
       "    </tr>\n",
       "    <tr>\n",
       "      <th>lieutenant</th>\n",
       "      <td>0.166667</td>\n",
       "      <td>0.181818</td>\n",
       "      <td>0.027778</td>\n",
       "    </tr>\n",
       "  </tbody>\n",
       "</table>\n",
       "</div>"
      ],
      "text/plain": [
       "deepdish       casserole  no opinion     pizza\n",
       "spell                                         \n",
       "daiquiri        0.000000    0.181818  0.194444\n",
       "hors d'oeuvre   0.833333    0.636364  0.777778\n",
       "lieutenant      0.166667    0.181818  0.027778"
      ]
     },
     "execution_count": 14,
     "metadata": {},
     "output_type": "execute_result"
    }
   ],
   "source": [
    "pd.crosstab(df['spell'], df['deepdish'], normalize='columns')"
   ]
  },
  {
   "cell_type": "code",
   "execution_count": 15,
   "metadata": {},
   "outputs": [
    {
     "data": {
      "text/html": [
       "<div>\n",
       "<style scoped>\n",
       "    .dataframe tbody tr th:only-of-type {\n",
       "        vertical-align: middle;\n",
       "    }\n",
       "\n",
       "    .dataframe tbody tr th {\n",
       "        vertical-align: top;\n",
       "    }\n",
       "\n",
       "    .dataframe thead th {\n",
       "        text-align: right;\n",
       "    }\n",
       "</style>\n",
       "<table border=\"1\" class=\"dataframe\">\n",
       "  <thead>\n",
       "    <tr style=\"text-align: right;\">\n",
       "      <th>talk</th>\n",
       "      <th>Less</th>\n",
       "      <th>More</th>\n",
       "    </tr>\n",
       "    <tr>\n",
       "      <th>deepdish</th>\n",
       "      <th></th>\n",
       "      <th></th>\n",
       "    </tr>\n",
       "  </thead>\n",
       "  <tbody>\n",
       "    <tr>\n",
       "      <th>casserole</th>\n",
       "      <td>0.09375</td>\n",
       "      <td>0.142857</td>\n",
       "    </tr>\n",
       "    <tr>\n",
       "      <th>no opinion</th>\n",
       "      <td>0.21875</td>\n",
       "      <td>0.190476</td>\n",
       "    </tr>\n",
       "    <tr>\n",
       "      <th>pizza</th>\n",
       "      <td>0.68750</td>\n",
       "      <td>0.666667</td>\n",
       "    </tr>\n",
       "  </tbody>\n",
       "</table>\n",
       "</div>"
      ],
      "text/plain": [
       "talk           Less      More\n",
       "deepdish                     \n",
       "casserole   0.09375  0.142857\n",
       "no opinion  0.21875  0.190476\n",
       "pizza       0.68750  0.666667"
      ]
     },
     "execution_count": 15,
     "metadata": {},
     "output_type": "execute_result"
    }
   ],
   "source": [
    "pd.crosstab(df['deepdish'], df['talk'], normalize='columns')"
   ]
  },
  {
   "cell_type": "markdown",
   "metadata": {},
   "source": [
    "## Step 5a:\n",
    "* We want to calculate the mean value for the optimal number of people to hangout with. However, some students responded with a range (for example 6-7) rather than an integer so this column is currently being treated as a string.  \n",
    "* Run the cell below then check your dataframe and see if you can figure out what the code did. Hint: NaN means \"Not a Number\".  "
   ]
  },
  {
   "cell_type": "code",
   "execution_count": 16,
   "metadata": {},
   "outputs": [
    {
     "data": {
      "text/html": [
       "<div>\n",
       "<style scoped>\n",
       "    .dataframe tbody tr th:only-of-type {\n",
       "        vertical-align: middle;\n",
       "    }\n",
       "\n",
       "    .dataframe tbody tr th {\n",
       "        vertical-align: top;\n",
       "    }\n",
       "\n",
       "    .dataframe thead th {\n",
       "        text-align: right;\n",
       "    }\n",
       "</style>\n",
       "<table border=\"1\" class=\"dataframe\">\n",
       "  <thead>\n",
       "    <tr style=\"text-align: right;\">\n",
       "      <th></th>\n",
       "      <th>hangout</th>\n",
       "      <th>hangout_numeric</th>\n",
       "    </tr>\n",
       "  </thead>\n",
       "  <tbody>\n",
       "    <tr>\n",
       "      <th>0</th>\n",
       "      <td>5</td>\n",
       "      <td>5.0</td>\n",
       "    </tr>\n",
       "    <tr>\n",
       "      <th>1</th>\n",
       "      <td>2</td>\n",
       "      <td>2.0</td>\n",
       "    </tr>\n",
       "    <tr>\n",
       "      <th>2</th>\n",
       "      <td>3</td>\n",
       "      <td>3.0</td>\n",
       "    </tr>\n",
       "    <tr>\n",
       "      <th>3</th>\n",
       "      <td>4</td>\n",
       "      <td>4.0</td>\n",
       "    </tr>\n",
       "    <tr>\n",
       "      <th>4</th>\n",
       "      <td>3</td>\n",
       "      <td>3.0</td>\n",
       "    </tr>\n",
       "    <tr>\n",
       "      <th>5</th>\n",
       "      <td>3</td>\n",
       "      <td>3.0</td>\n",
       "    </tr>\n",
       "    <tr>\n",
       "      <th>6</th>\n",
       "      <td>5</td>\n",
       "      <td>5.0</td>\n",
       "    </tr>\n",
       "    <tr>\n",
       "      <th>7</th>\n",
       "      <td>5</td>\n",
       "      <td>5.0</td>\n",
       "    </tr>\n",
       "    <tr>\n",
       "      <th>8</th>\n",
       "      <td>4</td>\n",
       "      <td>4.0</td>\n",
       "    </tr>\n",
       "    <tr>\n",
       "      <th>9</th>\n",
       "      <td>3</td>\n",
       "      <td>3.0</td>\n",
       "    </tr>\n",
       "    <tr>\n",
       "      <th>10</th>\n",
       "      <td>6-10</td>\n",
       "      <td>NaN</td>\n",
       "    </tr>\n",
       "    <tr>\n",
       "      <th>11</th>\n",
       "      <td>5</td>\n",
       "      <td>5.0</td>\n",
       "    </tr>\n",
       "    <tr>\n",
       "      <th>12</th>\n",
       "      <td>7</td>\n",
       "      <td>7.0</td>\n",
       "    </tr>\n",
       "    <tr>\n",
       "      <th>13</th>\n",
       "      <td>6</td>\n",
       "      <td>6.0</td>\n",
       "    </tr>\n",
       "    <tr>\n",
       "      <th>14</th>\n",
       "      <td>4</td>\n",
       "      <td>4.0</td>\n",
       "    </tr>\n",
       "    <tr>\n",
       "      <th>15</th>\n",
       "      <td>2</td>\n",
       "      <td>2.0</td>\n",
       "    </tr>\n",
       "    <tr>\n",
       "      <th>16</th>\n",
       "      <td>4</td>\n",
       "      <td>4.0</td>\n",
       "    </tr>\n",
       "    <tr>\n",
       "      <th>17</th>\n",
       "      <td>4</td>\n",
       "      <td>4.0</td>\n",
       "    </tr>\n",
       "    <tr>\n",
       "      <th>18</th>\n",
       "      <td>5</td>\n",
       "      <td>5.0</td>\n",
       "    </tr>\n",
       "    <tr>\n",
       "      <th>19</th>\n",
       "      <td>4</td>\n",
       "      <td>4.0</td>\n",
       "    </tr>\n",
       "    <tr>\n",
       "      <th>20</th>\n",
       "      <td>1</td>\n",
       "      <td>1.0</td>\n",
       "    </tr>\n",
       "    <tr>\n",
       "      <th>21</th>\n",
       "      <td>3</td>\n",
       "      <td>3.0</td>\n",
       "    </tr>\n",
       "    <tr>\n",
       "      <th>22</th>\n",
       "      <td>9</td>\n",
       "      <td>9.0</td>\n",
       "    </tr>\n",
       "    <tr>\n",
       "      <th>23</th>\n",
       "      <td>5</td>\n",
       "      <td>5.0</td>\n",
       "    </tr>\n",
       "    <tr>\n",
       "      <th>24</th>\n",
       "      <td>4</td>\n",
       "      <td>4.0</td>\n",
       "    </tr>\n",
       "    <tr>\n",
       "      <th>25</th>\n",
       "      <td>3</td>\n",
       "      <td>3.0</td>\n",
       "    </tr>\n",
       "    <tr>\n",
       "      <th>26</th>\n",
       "      <td>6</td>\n",
       "      <td>6.0</td>\n",
       "    </tr>\n",
       "    <tr>\n",
       "      <th>27</th>\n",
       "      <td>3</td>\n",
       "      <td>3.0</td>\n",
       "    </tr>\n",
       "    <tr>\n",
       "      <th>28</th>\n",
       "      <td>3</td>\n",
       "      <td>3.0</td>\n",
       "    </tr>\n",
       "    <tr>\n",
       "      <th>29</th>\n",
       "      <td>3</td>\n",
       "      <td>3.0</td>\n",
       "    </tr>\n",
       "    <tr>\n",
       "      <th>30</th>\n",
       "      <td>5-7</td>\n",
       "      <td>NaN</td>\n",
       "    </tr>\n",
       "    <tr>\n",
       "      <th>31</th>\n",
       "      <td>3</td>\n",
       "      <td>3.0</td>\n",
       "    </tr>\n",
       "    <tr>\n",
       "      <th>32</th>\n",
       "      <td>3</td>\n",
       "      <td>3.0</td>\n",
       "    </tr>\n",
       "    <tr>\n",
       "      <th>33</th>\n",
       "      <td>4</td>\n",
       "      <td>4.0</td>\n",
       "    </tr>\n",
       "    <tr>\n",
       "      <th>34</th>\n",
       "      <td>2</td>\n",
       "      <td>2.0</td>\n",
       "    </tr>\n",
       "    <tr>\n",
       "      <th>35</th>\n",
       "      <td>4</td>\n",
       "      <td>4.0</td>\n",
       "    </tr>\n",
       "    <tr>\n",
       "      <th>36</th>\n",
       "      <td>2</td>\n",
       "      <td>2.0</td>\n",
       "    </tr>\n",
       "    <tr>\n",
       "      <th>37</th>\n",
       "      <td>6</td>\n",
       "      <td>6.0</td>\n",
       "    </tr>\n",
       "    <tr>\n",
       "      <th>38</th>\n",
       "      <td>3</td>\n",
       "      <td>3.0</td>\n",
       "    </tr>\n",
       "    <tr>\n",
       "      <th>39</th>\n",
       "      <td>5</td>\n",
       "      <td>5.0</td>\n",
       "    </tr>\n",
       "    <tr>\n",
       "      <th>40</th>\n",
       "      <td>3</td>\n",
       "      <td>3.0</td>\n",
       "    </tr>\n",
       "    <tr>\n",
       "      <th>41</th>\n",
       "      <td>4</td>\n",
       "      <td>4.0</td>\n",
       "    </tr>\n",
       "    <tr>\n",
       "      <th>42</th>\n",
       "      <td>4</td>\n",
       "      <td>4.0</td>\n",
       "    </tr>\n",
       "    <tr>\n",
       "      <th>43</th>\n",
       "      <td>4</td>\n",
       "      <td>4.0</td>\n",
       "    </tr>\n",
       "    <tr>\n",
       "      <th>44</th>\n",
       "      <td>5</td>\n",
       "      <td>5.0</td>\n",
       "    </tr>\n",
       "    <tr>\n",
       "      <th>45</th>\n",
       "      <td>4</td>\n",
       "      <td>4.0</td>\n",
       "    </tr>\n",
       "    <tr>\n",
       "      <th>46</th>\n",
       "      <td>3</td>\n",
       "      <td>3.0</td>\n",
       "    </tr>\n",
       "    <tr>\n",
       "      <th>47</th>\n",
       "      <td>4</td>\n",
       "      <td>4.0</td>\n",
       "    </tr>\n",
       "    <tr>\n",
       "      <th>48</th>\n",
       "      <td>6</td>\n",
       "      <td>6.0</td>\n",
       "    </tr>\n",
       "    <tr>\n",
       "      <th>49</th>\n",
       "      <td>3-4</td>\n",
       "      <td>NaN</td>\n",
       "    </tr>\n",
       "    <tr>\n",
       "      <th>50</th>\n",
       "      <td>3</td>\n",
       "      <td>3.0</td>\n",
       "    </tr>\n",
       "    <tr>\n",
       "      <th>51</th>\n",
       "      <td>3</td>\n",
       "      <td>3.0</td>\n",
       "    </tr>\n",
       "    <tr>\n",
       "      <th>52</th>\n",
       "      <td>3</td>\n",
       "      <td>3.0</td>\n",
       "    </tr>\n",
       "  </tbody>\n",
       "</table>\n",
       "</div>"
      ],
      "text/plain": [
       "   hangout  hangout_numeric\n",
       "0        5              5.0\n",
       "1        2              2.0\n",
       "2        3              3.0\n",
       "3        4              4.0\n",
       "4        3              3.0\n",
       "5        3              3.0\n",
       "6        5              5.0\n",
       "7        5              5.0\n",
       "8        4              4.0\n",
       "9        3              3.0\n",
       "10    6-10              NaN\n",
       "11       5              5.0\n",
       "12       7              7.0\n",
       "13       6              6.0\n",
       "14       4              4.0\n",
       "15       2              2.0\n",
       "16       4              4.0\n",
       "17       4              4.0\n",
       "18       5              5.0\n",
       "19       4              4.0\n",
       "20       1              1.0\n",
       "21       3              3.0\n",
       "22       9              9.0\n",
       "23       5              5.0\n",
       "24       4              4.0\n",
       "25       3              3.0\n",
       "26       6              6.0\n",
       "27       3              3.0\n",
       "28       3              3.0\n",
       "29       3              3.0\n",
       "30     5-7              NaN\n",
       "31       3              3.0\n",
       "32       3              3.0\n",
       "33       4              4.0\n",
       "34       2              2.0\n",
       "35       4              4.0\n",
       "36       2              2.0\n",
       "37       6              6.0\n",
       "38       3              3.0\n",
       "39       5              5.0\n",
       "40       3              3.0\n",
       "41       4              4.0\n",
       "42       4              4.0\n",
       "43       4              4.0\n",
       "44       5              5.0\n",
       "45       4              4.0\n",
       "46       3              3.0\n",
       "47       4              4.0\n",
       "48       6              6.0\n",
       "49     3-4              NaN\n",
       "50       3              3.0\n",
       "51       3              3.0\n",
       "52       3              3.0"
      ]
     },
     "execution_count": 16,
     "metadata": {},
     "output_type": "execute_result"
    }
   ],
   "source": [
    "df[\"hangout_numeric\"] = pd.to_numeric(df[\"hangout\"], errors='coerce') # what does this code do?\n",
    "df[['hangout', 'hangout_numeric']] # what does this code do?"
   ]
  },
  {
   "cell_type": "markdown",
   "metadata": {},
   "source": [
    "## Step 5b:\n",
    "* Calculate the mean value of 'hangout_numeric'.\n",
    "* We essentially threw out data in the previous step by removing the answers that contained a range. What effect might this have on your mean value?\n",
    "* Create vizualizations to examine the question: Do people who say they talk more or less differ in how many people they think is the optimal number to hangout with?"
   ]
  },
  {
   "cell_type": "code",
   "execution_count": 17,
   "metadata": {},
   "outputs": [
    {
     "data": {
      "text/html": [
       "<div>\n",
       "<style scoped>\n",
       "    .dataframe tbody tr th:only-of-type {\n",
       "        vertical-align: middle;\n",
       "    }\n",
       "\n",
       "    .dataframe tbody tr th {\n",
       "        vertical-align: top;\n",
       "    }\n",
       "\n",
       "    .dataframe thead th {\n",
       "        text-align: right;\n",
       "    }\n",
       "</style>\n",
       "<table border=\"1\" class=\"dataframe\">\n",
       "  <thead>\n",
       "    <tr style=\"text-align: right;\">\n",
       "      <th></th>\n",
       "      <th>likepizza</th>\n",
       "      <th>hangout_numeric</th>\n",
       "    </tr>\n",
       "    <tr>\n",
       "      <th>talk</th>\n",
       "      <th></th>\n",
       "      <th></th>\n",
       "    </tr>\n",
       "  </thead>\n",
       "  <tbody>\n",
       "    <tr>\n",
       "      <th>Less</th>\n",
       "      <td>4.375000</td>\n",
       "      <td>3.833333</td>\n",
       "    </tr>\n",
       "    <tr>\n",
       "      <th>More</th>\n",
       "      <td>4.333333</td>\n",
       "      <td>4.050000</td>\n",
       "    </tr>\n",
       "  </tbody>\n",
       "</table>\n",
       "</div>"
      ],
      "text/plain": [
       "      likepizza  hangout_numeric\n",
       "talk                            \n",
       "Less   4.375000         3.833333\n",
       "More   4.333333         4.050000"
      ]
     },
     "execution_count": 17,
     "metadata": {},
     "output_type": "execute_result"
    }
   ],
   "source": [
    "# write and test your code here\n",
    "df.groupby('talk').mean()   #['hangout_numeric'].mean()"
   ]
  },
  {
   "cell_type": "code",
   "execution_count": 18,
   "metadata": {},
   "outputs": [
    {
     "data": {
      "text/plain": [
       "3.92"
      ]
     },
     "execution_count": 18,
     "metadata": {},
     "output_type": "execute_result"
    }
   ],
   "source": [
    "# calculate the mean value of hangout_numeric\n",
    "df['hangout_numeric'].mean()"
   ]
  },
  {
   "cell_type": "code",
   "execution_count": 19,
   "metadata": {},
   "outputs": [
    {
     "data": {
      "text/plain": [
       "talk\n",
       "Less    3.833333\n",
       "More    4.050000\n",
       "Name: hangout_numeric, dtype: float64"
      ]
     },
     "execution_count": 19,
     "metadata": {},
     "output_type": "execute_result"
    }
   ],
   "source": [
    "# talk more or less differ in hangout?\n",
    "hangoutmeans = df.groupby(by='talk')['hangout_numeric'].mean()\n",
    "hangoutmeans"
   ]
  },
  {
   "cell_type": "code",
   "execution_count": 20,
   "metadata": {},
   "outputs": [
    {
     "data": {
      "image/png": "[encoded data removed]",
      "text/plain": [
       "<Figure size 432x288 with 1 Axes>"
      ]
     },
     "metadata": {
      "needs_background": "light"
     },
     "output_type": "display_data"
    }
   ],
   "source": [
    "plt.bar(x=hangoutmeans.index, height=hangoutmeans.values)\n",
    "plt.xlabel(\"Talk Less or More than Average\")\n",
    "plt.ylabel(\"Average # of People to Hangout With\")\n",
    "plt.title(\"Do People Who Claim to Talk More or Less Differ in the Number of People They Want to Hangout With?\")\n",
    "plt.show()"
   ]
  },
  {
   "cell_type": "markdown",
   "metadata": {},
   "source": [
    "## Step 6:\n",
    "* Write code to find the top three cities students want to live in and the top three locations students want to travel to.\n"
   ]
  },
  {
   "cell_type": "code",
   "execution_count": 21,
   "metadata": {},
   "outputs": [
    {
     "data": {
      "text/plain": [
       "Tokyo      5\n",
       "Chicago    4\n",
       "Name: city, dtype: int64"
      ]
     },
     "execution_count": 21,
     "metadata": {},
     "output_type": "execute_result"
    }
   ],
   "source": [
    "# write and test your code here\n",
    "\n",
    "city_count = df['city'].value_counts()[0:2]\n",
    "city_count"
   ]
  },
  {
   "cell_type": "code",
   "execution_count": 22,
   "metadata": {},
   "outputs": [
    {
     "data": {
      "text/plain": [
       "Tokyo      5\n",
       "Chicago    4\n",
       "Seattle    3\n",
       "Name: city, dtype: int64"
      ]
     },
     "execution_count": 22,
     "metadata": {},
     "output_type": "execute_result"
    }
   ],
   "source": [
    "df['city'].value_counts().head(3)"
   ]
  },
  {
   "cell_type": "code",
   "execution_count": 23,
   "metadata": {},
   "outputs": [
    {
     "data": {
      "text/plain": [
       "Bora Bora    3\n",
       "Hawaii       3\n",
       "Fiji         2\n",
       "Name: travel, dtype: int64"
      ]
     },
     "execution_count": 23,
     "metadata": {},
     "output_type": "execute_result"
    }
   ],
   "source": [
    "df['travel'].value_counts().head(3)"
   ]
  },
  {
   "cell_type": "markdown",
   "metadata": {},
   "source": [
    "***\n",
    "## Step 7a:\n",
    "* The time machine question also contains a mix of numbers and letters that needs to be cleaned before we can do much with it.  \n",
    "* Run this to get a 'year_clean' column. Don't worry about how this code works. "
   ]
  },
  {
   "cell_type": "code",
   "execution_count": 24,
   "metadata": {},
   "outputs": [],
   "source": [
    "# you won't need to know this for the test\n",
    "df['year_clean'] = df['year'].str.extract(r'(\\d\\d\\d\\d)')\n",
    "df['year_num'] = pd.to_numeric(df[\"year_clean\"], errors='coerce')\n",
    "df['decade'] = df['year_num'] // 10 * 10"
   ]
  },
  {
   "cell_type": "markdown",
   "metadata": {},
   "source": [
    "## Step 7b:\n",
    "* It is highly likely that there are multiple outliers in our decade data. Either students who want to go back to prehistory or students who want to do deep into the future. Use query to create a data set that only contains rows with values between the years of 1900 and 2000. Call the new dataset 'dfrecent'.\n"
   ]
  },
  {
   "cell_type": "code",
   "execution_count": 25,
   "metadata": {},
   "outputs": [],
   "source": [
    "# write and test your code here"
   ]
  },
  {
   "cell_type": "code",
   "execution_count": 26,
   "metadata": {},
   "outputs": [
    {
     "data": {
      "text/plain": [
       "2     1910.0\n",
       "4     1980.0\n",
       "5     1990.0\n",
       "7     1950.0\n",
       "9     1980.0\n",
       "12    1940.0\n",
       "13    1980.0\n",
       "14    1980.0\n",
       "16    1920.0\n",
       "17    1960.0\n",
       "19    1920.0\n",
       "21    1990.0\n",
       "23    1920.0\n",
       "24    1990.0\n",
       "25    1970.0\n",
       "26    1920.0\n",
       "27    1920.0\n",
       "28    1990.0\n",
       "32    1900.0\n",
       "33    2000.0\n",
       "34    1940.0\n",
       "37    1980.0\n",
       "38    1950.0\n",
       "40    1990.0\n",
       "41    1920.0\n",
       "42    1980.0\n",
       "44    1950.0\n",
       "45    1960.0\n",
       "50    1970.0\n",
       "Name: decade, dtype: float64"
      ]
     },
     "execution_count": 26,
     "metadata": {},
     "output_type": "execute_result"
    }
   ],
   "source": [
    "dfrecent = df.query('decade >= 1900 and decade <= 2000')\n",
    "dfrecent['decade']"
   ]
  },
  {
   "cell_type": "markdown",
   "metadata": {},
   "source": [
    "## Step 7c:\n",
    "* Plot a histogram of 'decade' using dfrecent. What's the least popular decade to visit? "
   ]
  },
  {
   "cell_type": "code",
   "execution_count": 27,
   "metadata": {},
   "outputs": [],
   "source": [
    "# write and test your code here"
   ]
  },
  {
   "cell_type": "code",
   "execution_count": 28,
   "metadata": {},
   "outputs": [
    {
     "data": {
      "text/plain": [
       "(array([1., 1., 6., 0., 2., 3., 2., 2., 6., 6.]),\n",
       " array([1900., 1910., 1920., 1930., 1940., 1950., 1960., 1970., 1980.,\n",
       "        1990., 2000.]),\n",
       " <a list of 10 Patch objects>)"
      ]
     },
     "execution_count": 28,
     "metadata": {},
     "output_type": "execute_result"
    },
    {
     "data": {
      "image/png": "[encoded data removed]",
      "text/plain": [
       "<Figure size 432x288 with 1 Axes>"
      ]
     },
     "metadata": {
      "needs_background": "light"
     },
     "output_type": "display_data"
    }
   ],
   "source": [
    "plt.hist(dfrecent['decade'])"
   ]
  },
  {
   "cell_type": "markdown",
   "metadata": {},
   "source": [
    "***\n",
    "## Step 8a:\n",
    "* Let's pull some data out of the dataframe so you can work on the data using tools you are familiar with. This code block takes a series from the dataframe and places each seperate value in the series in a list."
   ]
  },
  {
   "cell_type": "code",
   "execution_count": 29,
   "metadata": {},
   "outputs": [],
   "source": [
    "# don't worry about how this code works. It won't be on the test.\n",
    "quotelist = df['quote'].loc[df['quote'].notnull()].tolist()"
   ]
  },
  {
   "cell_type": "markdown",
   "metadata": {},
   "source": [
    "## Step 8b:\n",
    "* Use a for loop with `quotelist` to calculate the average length of quotes submitted by students"
   ]
  },
  {
   "cell_type": "code",
   "execution_count": 30,
   "metadata": {},
   "outputs": [],
   "source": [
    "# write and test your code here"
   ]
  },
  {
   "cell_type": "code",
   "execution_count": 31,
   "metadata": {},
   "outputs": [
    {
     "name": "stdout",
     "output_type": "stream",
     "text": [
      "The legnth of the average student quote in characters is: 81.22916666666667\n"
     ]
    }
   ],
   "source": [
    "quotelength = 0\n",
    "for quote in quotelist:\n",
    "    quotelength = quotelength + len(quote)\n",
    "\n",
    "print('The length of the average student quote in characters is:', quotelength/len(quotelist))"
   ]
  },
  {
   "cell_type": "markdown",
   "metadata": {},
   "source": [
    "## Step 8c:\n",
    "* We can do the same thing in pandas by telling the dataframe to store the length of each value in a new column and then getting the mean of that column.\n",
    "* This should return the same answer as your for loop"
   ]
  },
  {
   "cell_type": "code",
   "execution_count": 32,
   "metadata": {},
   "outputs": [],
   "source": [
    "df['quotelength'] = df['quote'].str.len() # in pandas the length of a string can be calculated by calling the str.len() method\n",
    "# write code here to get the mean of 'quotelength'"
   ]
  },
  {
   "cell_type": "code",
   "execution_count": 33,
   "metadata": {},
   "outputs": [
    {
     "data": {
      "text/plain": [
       "81.22916666666667"
      ]
     },
     "execution_count": 33,
     "metadata": {},
     "output_type": "execute_result"
    }
   ],
   "source": [
    "df['quotelength'].mean()"
   ]
  },
  {
   "cell_type": "code",
   "execution_count": 34,
   "metadata": {},
   "outputs": [],
   "source": [
    "# Extra Fun Stuff\n",
    "\n",
    "# 1. Generate a visualization exploring the relationship between 'deepdish' and 'likepizza'.\n",
    "# 2. Generate a visualization exploring the relationship between 'decade' and 'likepizza'. (use query again to clean up 'decade')"
   ]
  }
 ],
 "metadata": {
  "kernelspec": {
   "display_name": "Python 3",
   "language": "python",
   "name": "python3"
  },
  "language_info": {
   "codemirror_mode": {
    "name": "ipython",
    "version": 3
   },
   "file_extension": ".py",
   "mimetype": "text/x-python",
   "name": "python",
   "nbconvert_exporter": "python",
   "pygments_lexer": "ipython3",
   "version": "3.6.8"
  }
 },
 "nbformat": 4,
 "nbformat_minor": 4
}
