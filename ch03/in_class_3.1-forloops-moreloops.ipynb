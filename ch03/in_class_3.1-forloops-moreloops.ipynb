{
 "cells": [
  {
   "cell_type": "markdown",
   "metadata": {},
   "source": [
    "# In-Class Exercises, Ch. 3.1, For Loops - Even More Loops\n",
    "\n",
    "Relevant reading:\n",
    "- [Python & Pandas Field Guide: Section 2.4.4. String Operations](https://snakebear.science/02-ValuesAndVariables/Operators.html#string-operations)\n",
    "- [Python & Pandas Field Guide: Section 3.1. For Loops](https://snakebear.science/03-ControlStructures/ForLoops.html)\n",
    "\n",
    "Key ideas in these exercises:\n",
    "1. String data\n",
    "2. For loops"
   ]
  },
  {
   "cell_type": "markdown",
   "metadata": {},
   "source": [
    "***\n",
    "## Nested For Loops\n",
    "Nested for loops involve loops that are called inside other loops. For example:"
   ]
  },
  {
   "cell_type": "code",
   "execution_count": null,
   "metadata": {},
   "outputs": [],
   "source": [
    "for i in range(3):\n",
    "    print('This is the first level loop. Iteration:', i)\n",
    "    for i2 in range(3):\n",
    "        print('     This the second level loop. Iteration:', i2)"
   ]
  },
  {
   "cell_type": "markdown",
   "metadata": {},
   "source": [
    "***\n",
    "## More Loops Exercise 1\n",
    "Use for loops to print the following pattern:\n",
    "\n",
    "```\n",
    "-----1\n",
    "----12\n",
    "---123\n",
    "--1234\n",
    "-12345\n",
    "```\n",
    "\n",
    "For an extra challenge complete this with one for loop and no more than four lines of code. "
   ]
  },
  {
   "cell_type": "code",
   "execution_count": null,
   "metadata": {},
   "outputs": [],
   "source": [
    "# write you code here"
   ]
  },
  {
   "cell_type": "markdown",
   "metadata": {},
   "source": [
    "***\n",
    "## More Loops - Exercise 2\n",
    "Use for loops to print the following pattern:\n",
    "\n",
    "```\n",
    "-----1\n",
    "----12\n",
    "---123\n",
    "--1234\n",
    "-12345\n",
    "--1234\n",
    "---123\n",
    "----12\n",
    "-----1\n",
    "```\n",
    " \n"
   ]
  },
  {
   "cell_type": "code",
   "execution_count": null,
   "metadata": {},
   "outputs": [],
   "source": [
    "# Write your code here"
   ]
  },
  {
   "cell_type": "markdown",
   "metadata": {},
   "source": [
    "***\n",
    "## More Loops - Exercise 3\n",
    "Use for loops to print each letter of the alphabet followed by its number:\n",
    "\n",
    "```\n",
    "A1\n",
    "B2\n",
    "C3\n",
    "...\n",
    "Z26\n",
    "```\n",
    " \n"
   ]
  },
  {
   "cell_type": "code",
   "execution_count": null,
   "metadata": {},
   "outputs": [],
   "source": [
    "# Write your code here"
   ]
  },
  {
   "cell_type": "markdown",
   "metadata": {},
   "source": [
    "***\n",
    "## More Loops - Exercise 4\n",
    "Use for loops prints all possible combinations of four letters:\n",
    "\n",
    "```\n",
    "AAAA\n",
    "AAAB\n",
    "AAAC\n",
    "...\n",
    "ZZZY\n",
    "ZZZZ\n",
    "```\n",
    " \n"
   ]
  },
  {
   "cell_type": "code",
   "execution_count": null,
   "metadata": {},
   "outputs": [],
   "source": [
    "# Write your code here"
   ]
  }
 ],
 "metadata": {
  "kernelspec": {
   "display_name": "Python 3",
   "language": "python",
   "name": "python3"
  },
  "language_info": {
   "codemirror_mode": {
    "name": "ipython",
    "version": 3
   },
   "file_extension": ".py",
   "mimetype": "text/x-python",
   "name": "python",
   "nbconvert_exporter": "python",
   "pygments_lexer": "ipython3",
   "version": "3.6.8"
  }
 },
 "nbformat": 4,
 "nbformat_minor": 4
}
